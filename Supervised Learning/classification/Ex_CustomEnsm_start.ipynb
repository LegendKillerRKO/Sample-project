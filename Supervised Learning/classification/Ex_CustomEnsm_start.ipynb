{
 "cells": [
  {
   "cell_type": "markdown",
   "metadata": {},
   "source": [
    "# Classification 2\n",
    "\n",
    "## Exercise 5: Building our own Ensemble model"
   ]
  },
  {
   "cell_type": "markdown",
   "metadata": {},
   "source": [
    "### Overview\n",
    "\n",
    "The objective of this exercise is to build an ensemble model made up of models that we have built previously. This ensemble will be made up of:\n",
    "\n",
    "- KNN\n",
    "- Decision Tree\n",
    "- Logistic Regression\n",
    "\n",
    "### Library Imports"
   ]
  },
  {
   "cell_type": "code",
   "execution_count": 1,
   "metadata": {},
   "outputs": [],
   "source": [
    "# Basic Library Imports\n",
    "import numpy as np\n",
    "import pandas as pd\n",
    "import matplotlib.pyplot as plt\n",
    "import seaborn as sn\n",
    "%matplotlib inline"
   ]
  },
  {
   "cell_type": "code",
   "execution_count": 2,
   "metadata": {},
   "outputs": [],
   "source": [
    "# Import the relevant Scikit-learn functions and Classes as required. You may have to keep modifying this cell as you discover more\n",
    "from sklearn.compose import ColumnTransformer, make_column_transformer\n",
    "from sklearn.pipeline import Pipeline, make_pipeline\n",
    "from sklearn.preprocessing import StandardScaler, OneHotEncoder\n",
    "from sklearn.model_selection import train_test_split, GridSearchCV\n",
    "from sklearn.neighbors import KNeighborsClassifier\n",
    "from sklearn.tree import DecisionTreeClassifier\n",
    "from sklearn.linear_model import LogisticRegression\n",
    "from sklearn.ensemble import VotingClassifier\n",
    "from sklearn.metrics import confusion_matrix, precision_score, recall_score, accuracy_score, f1_score, classification_report, roc_curve, auc"
   ]
  },
  {
   "cell_type": "markdown",
   "metadata": {},
   "source": [
    "## Data Ingestion"
   ]
  },
  {
   "cell_type": "code",
   "execution_count": 3,
   "metadata": {},
   "outputs": [],
   "source": [
    "# Read in the CSV file saved from Exercise 1\n",
    "file_path = \"telco_churn.csv\"\n",
    "# The 1st column of the csv file should be the customer ID, which is loaded in the the Dataframe's index\n",
    "input_data = pd.read_csv(file_path, index_col=0)"
   ]
  },
  {
   "cell_type": "code",
   "execution_count": 4,
   "metadata": {},
   "outputs": [
    {
     "data": {
      "text/html": [
       "<div>\n",
       "<style scoped>\n",
       "    .dataframe tbody tr th:only-of-type {\n",
       "        vertical-align: middle;\n",
       "    }\n",
       "\n",
       "    .dataframe tbody tr th {\n",
       "        vertical-align: top;\n",
       "    }\n",
       "\n",
       "    .dataframe thead th {\n",
       "        text-align: right;\n",
       "    }\n",
       "</style>\n",
       "<table border=\"1\" class=\"dataframe\">\n",
       "  <thead>\n",
       "    <tr style=\"text-align: right;\">\n",
       "      <th></th>\n",
       "      <th>Gender</th>\n",
       "      <th>SeniorCitizen</th>\n",
       "      <th>Partner</th>\n",
       "      <th>Dependents</th>\n",
       "      <th>TenureMonths</th>\n",
       "      <th>PhoneService</th>\n",
       "      <th>MultipleLines</th>\n",
       "      <th>InternetService</th>\n",
       "      <th>OnlineSecurity</th>\n",
       "      <th>OnlineBackup</th>\n",
       "      <th>DeviceProtection</th>\n",
       "      <th>TechSupport</th>\n",
       "      <th>StreamingTV</th>\n",
       "      <th>StreamingMovies</th>\n",
       "      <th>Contract</th>\n",
       "      <th>PaperlessBilling</th>\n",
       "      <th>PaymentMethod</th>\n",
       "      <th>MonthlyCharges</th>\n",
       "      <th>TotalCharges</th>\n",
       "      <th>ChurnLabel</th>\n",
       "    </tr>\n",
       "    <tr>\n",
       "      <th>CustomerID</th>\n",
       "      <th></th>\n",
       "      <th></th>\n",
       "      <th></th>\n",
       "      <th></th>\n",
       "      <th></th>\n",
       "      <th></th>\n",
       "      <th></th>\n",
       "      <th></th>\n",
       "      <th></th>\n",
       "      <th></th>\n",
       "      <th></th>\n",
       "      <th></th>\n",
       "      <th></th>\n",
       "      <th></th>\n",
       "      <th></th>\n",
       "      <th></th>\n",
       "      <th></th>\n",
       "      <th></th>\n",
       "      <th></th>\n",
       "      <th></th>\n",
       "    </tr>\n",
       "  </thead>\n",
       "  <tbody>\n",
       "    <tr>\n",
       "      <th>3668-QPYBK</th>\n",
       "      <td>Male</td>\n",
       "      <td>No</td>\n",
       "      <td>No</td>\n",
       "      <td>No</td>\n",
       "      <td>2</td>\n",
       "      <td>Yes</td>\n",
       "      <td>No</td>\n",
       "      <td>DSL</td>\n",
       "      <td>Yes</td>\n",
       "      <td>Yes</td>\n",
       "      <td>No</td>\n",
       "      <td>No</td>\n",
       "      <td>No</td>\n",
       "      <td>No</td>\n",
       "      <td>M2M</td>\n",
       "      <td>Yes</td>\n",
       "      <td>mcheck</td>\n",
       "      <td>53.85</td>\n",
       "      <td>108.15</td>\n",
       "      <td>Yes</td>\n",
       "    </tr>\n",
       "    <tr>\n",
       "      <th>9237-HQITU</th>\n",
       "      <td>Female</td>\n",
       "      <td>No</td>\n",
       "      <td>No</td>\n",
       "      <td>Yes</td>\n",
       "      <td>2</td>\n",
       "      <td>Yes</td>\n",
       "      <td>No</td>\n",
       "      <td>FiberOptic</td>\n",
       "      <td>No</td>\n",
       "      <td>No</td>\n",
       "      <td>No</td>\n",
       "      <td>No</td>\n",
       "      <td>No</td>\n",
       "      <td>No</td>\n",
       "      <td>M2M</td>\n",
       "      <td>Yes</td>\n",
       "      <td>echeck</td>\n",
       "      <td>70.70</td>\n",
       "      <td>151.65</td>\n",
       "      <td>Yes</td>\n",
       "    </tr>\n",
       "    <tr>\n",
       "      <th>9305-CDSKC</th>\n",
       "      <td>Female</td>\n",
       "      <td>No</td>\n",
       "      <td>No</td>\n",
       "      <td>Yes</td>\n",
       "      <td>8</td>\n",
       "      <td>Yes</td>\n",
       "      <td>Yes</td>\n",
       "      <td>FiberOptic</td>\n",
       "      <td>No</td>\n",
       "      <td>No</td>\n",
       "      <td>Yes</td>\n",
       "      <td>No</td>\n",
       "      <td>Yes</td>\n",
       "      <td>Yes</td>\n",
       "      <td>M2M</td>\n",
       "      <td>Yes</td>\n",
       "      <td>echeck</td>\n",
       "      <td>99.65</td>\n",
       "      <td>820.50</td>\n",
       "      <td>Yes</td>\n",
       "    </tr>\n",
       "    <tr>\n",
       "      <th>7892-POOKP</th>\n",
       "      <td>Female</td>\n",
       "      <td>No</td>\n",
       "      <td>Yes</td>\n",
       "      <td>Yes</td>\n",
       "      <td>28</td>\n",
       "      <td>Yes</td>\n",
       "      <td>Yes</td>\n",
       "      <td>FiberOptic</td>\n",
       "      <td>No</td>\n",
       "      <td>No</td>\n",
       "      <td>Yes</td>\n",
       "      <td>Yes</td>\n",
       "      <td>Yes</td>\n",
       "      <td>Yes</td>\n",
       "      <td>M2M</td>\n",
       "      <td>Yes</td>\n",
       "      <td>echeck</td>\n",
       "      <td>104.80</td>\n",
       "      <td>3046.05</td>\n",
       "      <td>Yes</td>\n",
       "    </tr>\n",
       "    <tr>\n",
       "      <th>0280-XJGEX</th>\n",
       "      <td>Male</td>\n",
       "      <td>No</td>\n",
       "      <td>No</td>\n",
       "      <td>Yes</td>\n",
       "      <td>49</td>\n",
       "      <td>Yes</td>\n",
       "      <td>Yes</td>\n",
       "      <td>FiberOptic</td>\n",
       "      <td>No</td>\n",
       "      <td>Yes</td>\n",
       "      <td>Yes</td>\n",
       "      <td>No</td>\n",
       "      <td>Yes</td>\n",
       "      <td>Yes</td>\n",
       "      <td>M2M</td>\n",
       "      <td>Yes</td>\n",
       "      <td>transfer</td>\n",
       "      <td>103.70</td>\n",
       "      <td>5036.30</td>\n",
       "      <td>Yes</td>\n",
       "    </tr>\n",
       "  </tbody>\n",
       "</table>\n",
       "</div>"
      ],
      "text/plain": [
       "            Gender SeniorCitizen Partner Dependents  TenureMonths  \\\n",
       "CustomerID                                                          \n",
       "3668-QPYBK    Male            No      No         No             2   \n",
       "9237-HQITU  Female            No      No        Yes             2   \n",
       "9305-CDSKC  Female            No      No        Yes             8   \n",
       "7892-POOKP  Female            No     Yes        Yes            28   \n",
       "0280-XJGEX    Male            No      No        Yes            49   \n",
       "\n",
       "           PhoneService MultipleLines InternetService OnlineSecurity  \\\n",
       "CustomerID                                                             \n",
       "3668-QPYBK          Yes            No             DSL            Yes   \n",
       "9237-HQITU          Yes            No      FiberOptic             No   \n",
       "9305-CDSKC          Yes           Yes      FiberOptic             No   \n",
       "7892-POOKP          Yes           Yes      FiberOptic             No   \n",
       "0280-XJGEX          Yes           Yes      FiberOptic             No   \n",
       "\n",
       "           OnlineBackup DeviceProtection TechSupport StreamingTV  \\\n",
       "CustomerID                                                         \n",
       "3668-QPYBK          Yes               No          No          No   \n",
       "9237-HQITU           No               No          No          No   \n",
       "9305-CDSKC           No              Yes          No         Yes   \n",
       "7892-POOKP           No              Yes         Yes         Yes   \n",
       "0280-XJGEX          Yes              Yes          No         Yes   \n",
       "\n",
       "           StreamingMovies Contract PaperlessBilling PaymentMethod  \\\n",
       "CustomerID                                                           \n",
       "3668-QPYBK              No      M2M              Yes        mcheck   \n",
       "9237-HQITU              No      M2M              Yes        echeck   \n",
       "9305-CDSKC             Yes      M2M              Yes        echeck   \n",
       "7892-POOKP             Yes      M2M              Yes        echeck   \n",
       "0280-XJGEX             Yes      M2M              Yes      transfer   \n",
       "\n",
       "            MonthlyCharges  TotalCharges ChurnLabel  \n",
       "CustomerID                                           \n",
       "3668-QPYBK           53.85        108.15        Yes  \n",
       "9237-HQITU           70.70        151.65        Yes  \n",
       "9305-CDSKC           99.65        820.50        Yes  \n",
       "7892-POOKP          104.80       3046.05        Yes  \n",
       "0280-XJGEX          103.70       5036.30        Yes  "
      ]
     },
     "execution_count": 4,
     "metadata": {},
     "output_type": "execute_result"
    }
   ],
   "source": [
    "# Validate that data is as expected\n",
    "input_data.head()"
   ]
  },
  {
   "cell_type": "code",
   "execution_count": 5,
   "metadata": {},
   "outputs": [
    {
     "data": {
      "text/plain": [
       "(7032, 20)"
      ]
     },
     "execution_count": 5,
     "metadata": {},
     "output_type": "execute_result"
    }
   ],
   "source": [
    "# Size of data - TASK: Validate that it's (7032, 20)\n",
    "input_data.shape"
   ]
  },
  {
   "cell_type": "markdown",
   "metadata": {},
   "source": [
    "## Feature Engineering"
   ]
  },
  {
   "cell_type": "code",
   "execution_count": 6,
   "metadata": {},
   "outputs": [
    {
     "name": "stdout",
     "output_type": "stream",
     "text": [
      "Row count for each outcome\n",
      "0    5163\n",
      "1    1869\n",
      "Name: ChurnLabel, dtype: int64\n"
     ]
    }
   ],
   "source": [
    "# Outcome variable\n",
    "# Instead of keeping the values, we will encode as 1s and 0s using the map function\n",
    "output_var_name = 'ChurnLabel'\n",
    "output_var = input_data[output_var_name]\n",
    "output_var = output_var.map({'Yes': 1, 'No': 0})\n",
    "# Note that the map function can be run only once. You will get an error if you try to run this cell again as Yes/No are no longer valid values in this feature. \n",
    "\n",
    "# Count the number of rows for each outcome value\n",
    "print(\"Row count for each outcome\")\n",
    "print(output_var.value_counts())\n",
    "\n",
    "# Remove the outcome variable from the main dataframe\n",
    "input_data.drop(output_var_name, axis=1, inplace=True)"
   ]
  },
  {
   "cell_type": "code",
   "execution_count": 7,
   "metadata": {},
   "outputs": [
    {
     "name": "stdout",
     "output_type": "stream",
     "text": [
      "['TenureMonths', 'MonthlyCharges', 'TotalCharges']\n"
     ]
    }
   ],
   "source": [
    "# Next, we want to define 3 lists for each of the data types found in our data i.e. Numerical, Categorical (more than 2 values), Binary (2 values only)\n",
    "\n",
    "# Numerical features\n",
    "num_features = [key for key in dict(input_data.dtypes) if dict(input_data.dtypes)[key] in ['int64', 'float64']]\n",
    "print(num_features) # TASK: Confirm the columns based on Exercise 1"
   ]
  },
  {
   "cell_type": "code",
   "execution_count": 8,
   "metadata": {},
   "outputs": [],
   "source": [
    "# Define the 4 categorical features as a list of strings. These are the non-numerical features that do not have Yes/No values\n",
    "# Categorical feature names\n",
    "cat_features = ['Gender', 'InternetService', 'Contract', 'PaymentMethod']"
   ]
  },
  {
   "cell_type": "code",
   "execution_count": 9,
   "metadata": {},
   "outputs": [
    {
     "name": "stdout",
     "output_type": "stream",
     "text": [
      "List of binary features: ['SeniorCitizen', 'Partner', 'Dependents', 'PhoneService', 'MultipleLines', 'OnlineSecurity', 'OnlineBackup', 'DeviceProtection', 'TechSupport', 'StreamingTV', 'StreamingMovies', 'PaperlessBilling']\n"
     ]
    }
   ],
   "source": [
    "# Define the binary features. Complete the steps denoted in this cell.\n",
    "# 1. Get the list of non-numerical features (both categorical and binary). Hint: Add 'not' to the code from num_features\n",
    "\n",
    "# Copy then modify the code from num_features\n",
    "bin_features = [key for key in dict(input_data.dtypes) if dict(input_data.dtypes)[key] not in ['int64', 'float64']]\n",
    "\n",
    "# 2. Remove the categorical feature names from this list\n",
    "for col in cat_features:\n",
    "    # Hint: There is a list method to remove an element\n",
    "    bin_features.remove(col)\n",
    "print(f\"List of binary features: {bin_features}\") # TASK: Confirm the resulting list"
   ]
  },
  {
   "cell_type": "code",
   "execution_count": 10,
   "metadata": {},
   "outputs": [],
   "source": [
    "# Encoding the binary features. Similar to the outcome variable, we will need to convert the values of these features from Yes/No to 1/0.\n",
    "# Note: As an alternative, this could have been done when building the pipeline.\n",
    "# Complete the code \n",
    "for col in bin_features:\n",
    "    input_data[col] = input_data[col].map({'Yes': 1, 'No': 0})"
   ]
  },
  {
   "cell_type": "code",
   "execution_count": 11,
   "metadata": {},
   "outputs": [
    {
     "data": {
      "text/html": [
       "<div>\n",
       "<style scoped>\n",
       "    .dataframe tbody tr th:only-of-type {\n",
       "        vertical-align: middle;\n",
       "    }\n",
       "\n",
       "    .dataframe tbody tr th {\n",
       "        vertical-align: top;\n",
       "    }\n",
       "\n",
       "    .dataframe thead th {\n",
       "        text-align: right;\n",
       "    }\n",
       "</style>\n",
       "<table border=\"1\" class=\"dataframe\">\n",
       "  <thead>\n",
       "    <tr style=\"text-align: right;\">\n",
       "      <th></th>\n",
       "      <th>Gender</th>\n",
       "      <th>SeniorCitizen</th>\n",
       "      <th>Partner</th>\n",
       "      <th>Dependents</th>\n",
       "      <th>TenureMonths</th>\n",
       "      <th>PhoneService</th>\n",
       "      <th>MultipleLines</th>\n",
       "      <th>InternetService</th>\n",
       "      <th>OnlineSecurity</th>\n",
       "      <th>OnlineBackup</th>\n",
       "      <th>DeviceProtection</th>\n",
       "      <th>TechSupport</th>\n",
       "      <th>StreamingTV</th>\n",
       "      <th>StreamingMovies</th>\n",
       "      <th>Contract</th>\n",
       "      <th>PaperlessBilling</th>\n",
       "      <th>PaymentMethod</th>\n",
       "      <th>MonthlyCharges</th>\n",
       "      <th>TotalCharges</th>\n",
       "    </tr>\n",
       "    <tr>\n",
       "      <th>CustomerID</th>\n",
       "      <th></th>\n",
       "      <th></th>\n",
       "      <th></th>\n",
       "      <th></th>\n",
       "      <th></th>\n",
       "      <th></th>\n",
       "      <th></th>\n",
       "      <th></th>\n",
       "      <th></th>\n",
       "      <th></th>\n",
       "      <th></th>\n",
       "      <th></th>\n",
       "      <th></th>\n",
       "      <th></th>\n",
       "      <th></th>\n",
       "      <th></th>\n",
       "      <th></th>\n",
       "      <th></th>\n",
       "      <th></th>\n",
       "    </tr>\n",
       "  </thead>\n",
       "  <tbody>\n",
       "    <tr>\n",
       "      <th>3668-QPYBK</th>\n",
       "      <td>Male</td>\n",
       "      <td>0</td>\n",
       "      <td>0</td>\n",
       "      <td>0</td>\n",
       "      <td>2</td>\n",
       "      <td>1</td>\n",
       "      <td>0</td>\n",
       "      <td>DSL</td>\n",
       "      <td>1</td>\n",
       "      <td>1</td>\n",
       "      <td>0</td>\n",
       "      <td>0</td>\n",
       "      <td>0</td>\n",
       "      <td>0</td>\n",
       "      <td>M2M</td>\n",
       "      <td>1</td>\n",
       "      <td>mcheck</td>\n",
       "      <td>53.85</td>\n",
       "      <td>108.15</td>\n",
       "    </tr>\n",
       "    <tr>\n",
       "      <th>9237-HQITU</th>\n",
       "      <td>Female</td>\n",
       "      <td>0</td>\n",
       "      <td>0</td>\n",
       "      <td>1</td>\n",
       "      <td>2</td>\n",
       "      <td>1</td>\n",
       "      <td>0</td>\n",
       "      <td>FiberOptic</td>\n",
       "      <td>0</td>\n",
       "      <td>0</td>\n",
       "      <td>0</td>\n",
       "      <td>0</td>\n",
       "      <td>0</td>\n",
       "      <td>0</td>\n",
       "      <td>M2M</td>\n",
       "      <td>1</td>\n",
       "      <td>echeck</td>\n",
       "      <td>70.70</td>\n",
       "      <td>151.65</td>\n",
       "    </tr>\n",
       "    <tr>\n",
       "      <th>9305-CDSKC</th>\n",
       "      <td>Female</td>\n",
       "      <td>0</td>\n",
       "      <td>0</td>\n",
       "      <td>1</td>\n",
       "      <td>8</td>\n",
       "      <td>1</td>\n",
       "      <td>1</td>\n",
       "      <td>FiberOptic</td>\n",
       "      <td>0</td>\n",
       "      <td>0</td>\n",
       "      <td>1</td>\n",
       "      <td>0</td>\n",
       "      <td>1</td>\n",
       "      <td>1</td>\n",
       "      <td>M2M</td>\n",
       "      <td>1</td>\n",
       "      <td>echeck</td>\n",
       "      <td>99.65</td>\n",
       "      <td>820.50</td>\n",
       "    </tr>\n",
       "    <tr>\n",
       "      <th>7892-POOKP</th>\n",
       "      <td>Female</td>\n",
       "      <td>0</td>\n",
       "      <td>1</td>\n",
       "      <td>1</td>\n",
       "      <td>28</td>\n",
       "      <td>1</td>\n",
       "      <td>1</td>\n",
       "      <td>FiberOptic</td>\n",
       "      <td>0</td>\n",
       "      <td>0</td>\n",
       "      <td>1</td>\n",
       "      <td>1</td>\n",
       "      <td>1</td>\n",
       "      <td>1</td>\n",
       "      <td>M2M</td>\n",
       "      <td>1</td>\n",
       "      <td>echeck</td>\n",
       "      <td>104.80</td>\n",
       "      <td>3046.05</td>\n",
       "    </tr>\n",
       "    <tr>\n",
       "      <th>0280-XJGEX</th>\n",
       "      <td>Male</td>\n",
       "      <td>0</td>\n",
       "      <td>0</td>\n",
       "      <td>1</td>\n",
       "      <td>49</td>\n",
       "      <td>1</td>\n",
       "      <td>1</td>\n",
       "      <td>FiberOptic</td>\n",
       "      <td>0</td>\n",
       "      <td>1</td>\n",
       "      <td>1</td>\n",
       "      <td>0</td>\n",
       "      <td>1</td>\n",
       "      <td>1</td>\n",
       "      <td>M2M</td>\n",
       "      <td>1</td>\n",
       "      <td>transfer</td>\n",
       "      <td>103.70</td>\n",
       "      <td>5036.30</td>\n",
       "    </tr>\n",
       "  </tbody>\n",
       "</table>\n",
       "</div>"
      ],
      "text/plain": [
       "            Gender  SeniorCitizen  Partner  Dependents  TenureMonths  \\\n",
       "CustomerID                                                             \n",
       "3668-QPYBK    Male              0        0           0             2   \n",
       "9237-HQITU  Female              0        0           1             2   \n",
       "9305-CDSKC  Female              0        0           1             8   \n",
       "7892-POOKP  Female              0        1           1            28   \n",
       "0280-XJGEX    Male              0        0           1            49   \n",
       "\n",
       "            PhoneService  MultipleLines InternetService  OnlineSecurity  \\\n",
       "CustomerID                                                                \n",
       "3668-QPYBK             1              0             DSL               1   \n",
       "9237-HQITU             1              0      FiberOptic               0   \n",
       "9305-CDSKC             1              1      FiberOptic               0   \n",
       "7892-POOKP             1              1      FiberOptic               0   \n",
       "0280-XJGEX             1              1      FiberOptic               0   \n",
       "\n",
       "            OnlineBackup  DeviceProtection  TechSupport  StreamingTV  \\\n",
       "CustomerID                                                             \n",
       "3668-QPYBK             1                 0            0            0   \n",
       "9237-HQITU             0                 0            0            0   \n",
       "9305-CDSKC             0                 1            0            1   \n",
       "7892-POOKP             0                 1            1            1   \n",
       "0280-XJGEX             1                 1            0            1   \n",
       "\n",
       "            StreamingMovies Contract  PaperlessBilling PaymentMethod  \\\n",
       "CustomerID                                                             \n",
       "3668-QPYBK                0      M2M                 1        mcheck   \n",
       "9237-HQITU                0      M2M                 1        echeck   \n",
       "9305-CDSKC                1      M2M                 1        echeck   \n",
       "7892-POOKP                1      M2M                 1        echeck   \n",
       "0280-XJGEX                1      M2M                 1      transfer   \n",
       "\n",
       "            MonthlyCharges  TotalCharges  \n",
       "CustomerID                                \n",
       "3668-QPYBK           53.85        108.15  \n",
       "9237-HQITU           70.70        151.65  \n",
       "9305-CDSKC           99.65        820.50  \n",
       "7892-POOKP          104.80       3046.05  \n",
       "0280-XJGEX          103.70       5036.30  "
      ]
     },
     "execution_count": 11,
     "metadata": {},
     "output_type": "execute_result"
    }
   ],
   "source": [
    "# Display values after encoding\n",
    "input_data.head()"
   ]
  },
  {
   "cell_type": "markdown",
   "metadata": {},
   "source": [
    "## Model Building"
   ]
  },
  {
   "cell_type": "code",
   "execution_count": 12,
   "metadata": {},
   "outputs": [],
   "source": [
    "# Define preprocessing pipeline. Reminder that the binary features have already been encoded and thus only passed through\n",
    "# Match the list of features to the correct encoding operation. \n",
    "# Remember to add the library imports for ColumnTransformer, StandardScaler, OneHotEncoder to the imports above\n",
    "preprocess = ColumnTransformer(\n",
    "    transformers=[\n",
    "        ('standardscaler', StandardScaler(), num_features),\n",
    "        ('onehotencoder', OneHotEncoder(), cat_features)\n",
    "    ],\n",
    "    remainder='passthrough'\n",
    ")"
   ]
  },
  {
   "cell_type": "code",
   "execution_count": 15,
   "metadata": {},
   "outputs": [],
   "source": [
    "# Define the models and their parameters: KNN  and Decision Tree from previous exercises and Logistic Regression Classifier using \n",
    "# default parameters\n",
    "model_knn = make_pipeline(\n",
    "     preprocess,\n",
    "     KNeighborsClassifier(n_neighbors=5)\n",
    ")"
   ]
  },
  {
   "cell_type": "code",
   "execution_count": 16,
   "metadata": {},
   "outputs": [],
   "source": [
    "model_dt = make_pipeline(\n",
    "     preprocess,\n",
    "     DecisionTreeClassifier(random_state=42,\n",
    "                           max_depth=3,\n",
    "                           max_features=0.4,\n",
    "                           min_samples_leaf=0.08)\n",
    ")"
   ]
  },
  {
   "cell_type": "code",
   "execution_count": 17,
   "metadata": {},
   "outputs": [],
   "source": [
    "model_lr = make_pipeline(\n",
    "     preprocess,\n",
    "     LogisticRegression()\n",
    ")"
   ]
  },
  {
   "cell_type": "code",
   "execution_count": 18,
   "metadata": {},
   "outputs": [],
   "source": [
    "clfs = [\n",
    "    ('KNN', model_knn),\n",
    "    ('Decision Tree', model_dt),\n",
    "    ('Logistic Regression', model_lr)\n",
    "]"
   ]
  },
  {
   "cell_type": "code",
   "execution_count": 19,
   "metadata": {},
   "outputs": [],
   "source": [
    "# Train/Test Split\n",
    "# Split the data into 70:30 train/test. Use the random_state=42\n",
    "x_train, x_test, y_train, y_test = train_test_split(input_data, output_var, test_size=0.3, random_state=42)"
   ]
  },
  {
   "cell_type": "code",
   "execution_count": 20,
   "metadata": {},
   "outputs": [
    {
     "data": {
      "text/plain": [
       "(2110, 19)"
      ]
     },
     "execution_count": 20,
     "metadata": {},
     "output_type": "execute_result"
    }
   ],
   "source": [
    "# Check the dimensions of the data. TASK: Confirm as (2110, 19)\n",
    "x_test.shape"
   ]
  },
  {
   "cell_type": "code",
   "execution_count": 22,
   "metadata": {},
   "outputs": [
    {
     "name": "stdout",
     "output_type": "stream",
     "text": [
      "KNN : 0.604\n",
      "Decision Tree : 0.613\n",
      "Logistic Regression : 0.645\n"
     ]
    }
   ],
   "source": [
    "# Train the individual models and calculate the metric individually for comparison\n",
    "# Replace metric with appropriate one\n",
    "\n",
    "for clf_name, clf in clfs:\n",
    "        clf.fit(x_train, y_train)\n",
    "        pred_test = clf.predict(x_test)\n",
    "\n",
    "    # Calculate the metrics used to evaluate previous models\n",
    "        f1 = f1_score(y_test, pred_test)\n",
    "        print('{:s} : {:.3f}'.format(clf_name, f1)) "
   ]
  },
  {
   "cell_type": "code",
   "execution_count": 23,
   "metadata": {},
   "outputs": [
    {
     "data": {
      "text/plain": [
       "VotingClassifier(estimators=[('KNN',\n",
       "                              Pipeline(memory=None,\n",
       "                                       steps=[('columntransformer',\n",
       "                                               ColumnTransformer(n_jobs=None,\n",
       "                                                                 remainder='passthrough',\n",
       "                                                                 sparse_threshold=0.3,\n",
       "                                                                 transformer_weights=None,\n",
       "                                                                 transformers=[('standardscaler',\n",
       "                                                                                StandardScaler(copy=True,\n",
       "                                                                                               with_mean=True,\n",
       "                                                                                               with_std=True),\n",
       "                                                                                ['TenureMonths',\n",
       "                                                                                 'MonthlyCharges',\n",
       "                                                                                 'TotalCharges']),\n",
       "                                                                               ('onehotencoder',\n",
       "                                                                                OneHotEncod...\n",
       "                                                                 verbose=False)),\n",
       "                                              ('logisticregression',\n",
       "                                               LogisticRegression(C=1.0,\n",
       "                                                                  class_weight=None,\n",
       "                                                                  dual=False,\n",
       "                                                                  fit_intercept=True,\n",
       "                                                                  intercept_scaling=1,\n",
       "                                                                  l1_ratio=None,\n",
       "                                                                  max_iter=100,\n",
       "                                                                  multi_class='auto',\n",
       "                                                                  n_jobs=None,\n",
       "                                                                  penalty='l2',\n",
       "                                                                  random_state=None,\n",
       "                                                                  solver='lbfgs',\n",
       "                                                                  tol=0.0001,\n",
       "                                                                  verbose=0,\n",
       "                                                                  warm_start=False))],\n",
       "                                       verbose=False))],\n",
       "                 flatten_transform=True, n_jobs=None, voting='hard',\n",
       "                 weights=None)"
      ]
     },
     "execution_count": 23,
     "metadata": {},
     "output_type": "execute_result"
    }
   ],
   "source": [
    "model = VotingClassifier(estimators=clfs)\n",
    "model.fit(x_train, y_train)"
   ]
  },
  {
   "cell_type": "code",
   "execution_count": 24,
   "metadata": {},
   "outputs": [],
   "source": [
    "# Apply the model on the test data\n",
    "pred_test = model.predict(x_test)"
   ]
  },
  {
   "cell_type": "code",
   "execution_count": 25,
   "metadata": {},
   "outputs": [],
   "source": [
    "# Import the following metrics from scikit-learn in the library imports section above\n",
    "# confusion_matrix, accuracy_score, precision, recall, f1_score, classification_report, roc_curve, auc\n",
    "# Note that all these functions have the same parameter profile i.e. the first parameter contains the actual values while the second parameter contains the predicted values from the model.\n"
   ]
  },
  {
   "cell_type": "code",
   "execution_count": 26,
   "metadata": {},
   "outputs": [
    {
     "name": "stdout",
     "output_type": "stream",
     "text": [
      "[[1349  173]\n",
      " [ 226  362]]\n"
     ]
    }
   ],
   "source": [
    "# Calculate the confusion matrix\n",
    "cm = confusion_matrix(y_test, pred_test)\n",
    "print(cm)"
   ]
  },
  {
   "cell_type": "code",
   "execution_count": 27,
   "metadata": {},
   "outputs": [
    {
     "data": {
      "image/png": "[encoded data removed]",
      "text/plain": [
       "<Figure size 432x288 with 2 Axes>"
      ]
     },
     "metadata": {
      "needs_background": "light"
     },
     "output_type": "display_data"
    }
   ],
   "source": [
    "# Confusion Matrices typically are displayed in a graphical manner. Run this cell to display the matrix using this code snippet found online.\n",
    "labels = ['No','Yes']\n",
    "ax= plt.subplot()\n",
    "sn.heatmap(cm, annot=True, ax = ax, fmt=\"d\"); #annot=True to annotate cells\n",
    "\n",
    "# labels, title and ticks\n",
    "ax.set_xlabel('Predicted labels');ax.set_ylabel('True labels'); \n",
    "ax.set_title('Confusion Matrix'); \n",
    "ax.xaxis.set_ticklabels(labels); ax.yaxis.set_ticklabels(labels)\n",
    "plt.show()"
   ]
  },
  {
   "cell_type": "code",
   "execution_count": 28,
   "metadata": {},
   "outputs": [
    {
     "name": "stdout",
     "output_type": "stream",
     "text": [
      "Accuracy: 0.81090\n"
     ]
    }
   ],
   "source": [
    "# Calculate the 4 following metrics using the correct function\n",
    "# OPTIONAL: Calculate these metrics by hand (using the formulas in the reference blog posts) to validate the values\n",
    "\n",
    "# 1. Accuracy = Sum of correctly predicted outcomes divided by total number of samples\n",
    "accuracy = accuracy_score(y_test, pred_test)\n",
    "print(\"Accuracy: {:.5f}\".format(accuracy))"
   ]
  },
  {
   "cell_type": "code",
   "execution_count": 29,
   "metadata": {},
   "outputs": [
    {
     "name": "stdout",
     "output_type": "stream",
     "text": [
      "Precision: 0.67664\n"
     ]
    }
   ],
   "source": [
    "# 2. Precision - Of those predicted positive, how many of them are actual positive.\n",
    "precision = precision_score(y_test, pred_test)\n",
    "print(\"Precision: {:.5f}\".format(precision))"
   ]
  },
  {
   "cell_type": "code",
   "execution_count": 30,
   "metadata": {},
   "outputs": [
    {
     "name": "stdout",
     "output_type": "stream",
     "text": [
      "Recall: 0.61565\n"
     ]
    }
   ],
   "source": [
    "# 3. Recall - how many of the actual positives our model is predicting as positives\n",
    "recall = recall_score(y_test, pred_test)\n",
    "print(\"Recall: {:.5f}\".format(recall))"
   ]
  },
  {
   "cell_type": "code",
   "execution_count": 31,
   "metadata": {},
   "outputs": [
    {
     "name": "stdout",
     "output_type": "stream",
     "text": [
      "F1 Score: 0.64470\n"
     ]
    }
   ],
   "source": [
    "# 4. F1 score\n",
    "f1 = f1_score(y_test, pred_test)\n",
    "print(\"F1 Score: {:.5f}\".format(f1))"
   ]
  },
  {
   "cell_type": "code",
   "execution_count": 32,
   "metadata": {},
   "outputs": [
    {
     "name": "stdout",
     "output_type": "stream",
     "text": [
      "              precision    recall  f1-score   support\n",
      "\n",
      "           0    0.85651   0.88633   0.87117      1522\n",
      "           1    0.67664   0.61565   0.64470       588\n",
      "\n",
      "    accuracy                        0.81090      2110\n",
      "   macro avg    0.76657   0.75099   0.75793      2110\n",
      "weighted avg    0.80638   0.81090   0.80806      2110\n",
      "\n"
     ]
    }
   ],
   "source": [
    "# Alternatively, we can calculate all these metrics in one call using the classification_report function\n",
    "print(classification_report(y_test, pred_test, digits=5))"
   ]
  },
  {
   "cell_type": "markdown",
   "metadata": {},
   "source": [
    "At this point, take a step back and try to understand these numbers. \n",
    "\n",
    "- What do these metrics mean in the context of the problem? \n",
    "- Which error (Type 1 or Type 2) is more important for this problem? And thus which metric is more important, Precision or Recall?"
   ]
  },
  {
   "cell_type": "code",
   "execution_count": 33,
   "metadata": {},
   "outputs": [],
   "source": [
    "# Compute ROC and AUC. Note that roc_curve() returns 3 values. You will only need the first 2 as input to auc() i.e. use _ as the 3rd output\n",
    "fpr, tpr, _ = roc_curve(y_test, pred_test)\n",
    "roc_auc = auc(fpr, tpr)"
   ]
  },
  {
   "cell_type": "code",
   "execution_count": 34,
   "metadata": {},
   "outputs": [
    {
     "data": {
      "image/png": "[encoded data removed]",
      "text/plain": [
       "<Figure size 432x288 with 1 Axes>"
      ]
     },
     "metadata": {
      "needs_background": "light"
     },
     "output_type": "display_data"
    }
   ],
   "source": [
    "# Run this cell to plot the ROC curve\n",
    "plt.figure()\n",
    "plt.plot(fpr, tpr, color='darkorange',\n",
    "         lw=2, label='ROC curve (area = %0.2f)' % roc_auc)\n",
    "plt.plot([0, 1], [0, 1], color='navy', lw=2, linestyle='--')\n",
    "plt.xlim([0.0, 1.0])\n",
    "plt.ylim([0.0, 1.05])\n",
    "plt.xlabel('False Positive Rate')\n",
    "plt.ylabel('True Positive Rate')\n",
    "plt.title('Receiver operating characteristic curve')\n",
    "plt.legend(loc=\"lower right\")\n",
    "plt.show()"
   ]
  },
  {
   "cell_type": "markdown",
   "metadata": {},
   "source": [
    "Congratulations! You have built a basic classication model. Complete the lesson quiz and proceed to the next lesson."
   ]
  },
  {
   "cell_type": "code",
   "execution_count": null,
   "metadata": {},
   "outputs": [],
   "source": []
  }
 ],
 "metadata": {
  "kernelspec": {
   "display_name": "Python 3",
   "language": "python",
   "name": "python3"
  },
  "language_info": {
   "codemirror_mode": {
    "name": "ipython",
    "version": 3
   },
   "file_extension": ".py",
   "mimetype": "text/x-python",
   "name": "python",
   "nbconvert_exporter": "python",
   "pygments_lexer": "ipython3",
   "version": "3.7.6"
  }
 },
 "nbformat": 4,
 "nbformat_minor": 4
}
